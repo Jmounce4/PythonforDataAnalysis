{
 "cells": [
  {
   "cell_type": "code",
   "execution_count": 1,
   "id": "a83b956d-857d-400d-bb29-ae7b142dd2e6",
   "metadata": {},
   "outputs": [],
   "source": [
    "an_example = 28"
   ]
  },
  {
   "cell_type": "code",
   "execution_count": 2,
   "id": "bed5b518-2e45-497f-9927-abbf031d6c21",
   "metadata": {},
   "outputs": [],
   "source": [
    "myArray = [1,2,an_example]"
   ]
  },
  {
   "cell_type": "code",
   "execution_count": 3,
   "id": "0520de94-cbcf-4e4b-8e15-97331745761c",
   "metadata": {},
   "outputs": [
    {
     "name": "stdout",
     "output_type": "stream",
     "text": [
      "[1, 2, 28]\n"
     ]
    }
   ],
   "source": [
    "print(myArray)"
   ]
  },
  {
   "cell_type": "code",
   "execution_count": 4,
   "id": "4f5df34c-e149-4928-bfb9-2d7e042a744e",
   "metadata": {},
   "outputs": [],
   "source": [
    "myArray.append(4)"
   ]
  },
  {
   "cell_type": "code",
   "execution_count": 5,
   "id": "c0c2da75-d9b0-45c6-8a89-25c3a3e2b309",
   "metadata": {},
   "outputs": [
    {
     "name": "stdout",
     "output_type": "stream",
     "text": [
      "[1, 2, 28, 4]\n"
     ]
    }
   ],
   "source": [
    "print(myArray)"
   ]
  },
  {
   "cell_type": "code",
   "execution_count": 6,
   "id": "a1e8ec60-962d-4691-a42c-06b150ea5b12",
   "metadata": {},
   "outputs": [
    {
     "data": {
      "text/plain": [
       "\u001b[1;31mType:\u001b[0m        list\n",
       "\u001b[1;31mString form:\u001b[0m [1, 2, 28, 4]\n",
       "\u001b[1;31mLength:\u001b[0m      4\n",
       "\u001b[1;31mDocstring:\u001b[0m  \n",
       "Built-in mutable sequence.\n",
       "\n",
       "If no argument is given, the constructor creates a new empty list.\n",
       "The argument must be an iterable if specified."
      ]
     },
     "metadata": {},
     "output_type": "display_data"
    }
   ],
   "source": [
    "myArray?"
   ]
  },
  {
   "cell_type": "code",
   "execution_count": 7,
   "id": "cc5c8827-53da-4b10-b28b-0c1161a70edd",
   "metadata": {},
   "outputs": [],
   "source": [
    "a = \"poo\""
   ]
  },
  {
   "cell_type": "code",
   "execution_count": 11,
   "id": "edf1d0be-a741-4457-87e7-84f15ff1991a",
   "metadata": {},
   "outputs": [],
   "source": [
    "b = \"\"\"\n",
    "This is how to make a very long string with line breaks\n",
    "if I want\n",
    "\"\"\""
   ]
  },
  {
   "cell_type": "code",
   "execution_count": 12,
   "id": "2cd2dec0-2225-4df6-853c-1a926dc76cd4",
   "metadata": {},
   "outputs": [
    {
     "data": {
      "text/plain": [
       "'\\nThis is how to make a very long string with line breaks\\nif I want\\n'"
      ]
     },
     "execution_count": 12,
     "metadata": {},
     "output_type": "execute_result"
    }
   ],
   "source": [
    "b"
   ]
  },
  {
   "cell_type": "code",
   "execution_count": 13,
   "id": "c5b2e528-f868-4ba2-a04f-643a0618a0bb",
   "metadata": {},
   "outputs": [
    {
     "data": {
      "text/plain": [
       "3"
      ]
     },
     "execution_count": 13,
     "metadata": {},
     "output_type": "execute_result"
    }
   ],
   "source": [
    "b.count(\"\\n\")"
   ]
  },
  {
   "cell_type": "code",
   "execution_count": 15,
   "id": "da42763c-adfd-46a5-b307-9334b0f842b2",
   "metadata": {},
   "outputs": [],
   "source": [
    "c = b.replace(\"want\", \"want to\")"
   ]
  },
  {
   "cell_type": "code",
   "execution_count": 16,
   "id": "3e4a0b0f-b2d7-4747-baac-7e8a888e6ad5",
   "metadata": {},
   "outputs": [
    {
     "data": {
      "text/plain": [
       "'\\nThis is how to make a very long string with line breaks\\nif I want to\\n'"
      ]
     },
     "execution_count": 16,
     "metadata": {},
     "output_type": "execute_result"
    }
   ],
   "source": [
    "c"
   ]
  },
  {
   "cell_type": "code",
   "execution_count": 17,
   "id": "52b9f22f-d204-4c15-8ddd-976990c65001",
   "metadata": {},
   "outputs": [],
   "source": [
    "template = \"{0:.4f} {1:s} are worth US${2:d}\""
   ]
  },
  {
   "cell_type": "code",
   "execution_count": 18,
   "id": "b48ce7cd-8f4e-4a16-adac-b58e6bc8f6c3",
   "metadata": {},
   "outputs": [
    {
     "data": {
      "text/plain": [
       "'88.4600 Argentine Pesos are worth US$1'"
      ]
     },
     "execution_count": 18,
     "metadata": {},
     "output_type": "execute_result"
    }
   ],
   "source": [
    "template.format(88.46, \"Argentine Pesos\", 1)"
   ]
  },
  {
   "cell_type": "code",
   "execution_count": 19,
   "id": "201e26eb-d8cd-45b2-9b10-e4d805a46b56",
   "metadata": {},
   "outputs": [],
   "source": [
    "amount = 10"
   ]
  },
  {
   "cell_type": "code",
   "execution_count": 20,
   "id": "733f8e49-61cf-45f0-a1e0-8b6e4c56d27b",
   "metadata": {},
   "outputs": [],
   "source": [
    "rate = 88.46"
   ]
  },
  {
   "cell_type": "code",
   "execution_count": 21,
   "id": "0d7904b3-860e-49d0-86d2-06af695e1274",
   "metadata": {},
   "outputs": [],
   "source": [
    "currency = \"Pesos\""
   ]
  },
  {
   "cell_type": "code",
   "execution_count": 23,
   "id": "25fe396b-2b09-409d-96ad-df272a5ed386",
   "metadata": {},
   "outputs": [],
   "source": [
    "result = f\"{amount} {currency} is worth US${amount/rate:.2f}\""
   ]
  },
  {
   "cell_type": "code",
   "execution_count": 24,
   "id": "3b99837b-83d4-4c3b-b076-9517c183859e",
   "metadata": {},
   "outputs": [
    {
     "data": {
      "text/plain": [
       "'10 Pesos is worth US$0.11'"
      ]
     },
     "execution_count": 24,
     "metadata": {},
     "output_type": "execute_result"
    }
   ],
   "source": [
    "result"
   ]
  },
  {
   "cell_type": "code",
   "execution_count": 26,
   "id": "ce8c091e-3b78-479d-ae29-2aa7bde14497",
   "metadata": {},
   "outputs": [],
   "source": [
    "from datetime import datetime, date, time"
   ]
  },
  {
   "cell_type": "code",
   "execution_count": 30,
   "id": "a8af48cb-678e-4233-8d12-8c1af3ba10dc",
   "metadata": {},
   "outputs": [],
   "source": [
    "dt = datetime(2024, 5, 9, 15, 2, 5)\n",
    "#year, month, day, hour, minute, second"
   ]
  },
  {
   "cell_type": "code",
   "execution_count": 31,
   "id": "9e2d72b4-a1d0-4bcd-9dbd-5bef0bad5296",
   "metadata": {},
   "outputs": [
    {
     "data": {
      "text/plain": [
       "2"
      ]
     },
     "execution_count": 31,
     "metadata": {},
     "output_type": "execute_result"
    }
   ],
   "source": [
    "dt.minute"
   ]
  },
  {
   "cell_type": "code",
   "execution_count": 33,
   "id": "5545b385-529b-4323-b827-32e7d6fb9a2b",
   "metadata": {},
   "outputs": [
    {
     "data": {
      "text/plain": [
       "'2024-05-09 15:02:05'"
      ]
     },
     "execution_count": 33,
     "metadata": {},
     "output_type": "execute_result"
    }
   ],
   "source": [
    "dt.strftime(\"%Y-%m-%d %H:%M:%S\")"
   ]
  },
  {
   "cell_type": "code",
   "execution_count": null,
   "id": "abfb46ee-3ec0-4229-9619-700e6cc5118f",
   "metadata": {},
   "outputs": [],
   "source": []
  }
 ],
 "metadata": {
  "kernelspec": {
   "display_name": "Python 3 (ipykernel)",
   "language": "python",
   "name": "python3"
  },
  "language_info": {
   "codemirror_mode": {
    "name": "ipython",
    "version": 3
   },
   "file_extension": ".py",
   "mimetype": "text/x-python",
   "name": "python",
   "nbconvert_exporter": "python",
   "pygments_lexer": "ipython3",
   "version": "3.12.3"
  }
 },
 "nbformat": 4,
 "nbformat_minor": 5
}
