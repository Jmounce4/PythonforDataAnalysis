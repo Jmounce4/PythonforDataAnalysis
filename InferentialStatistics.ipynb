{
 "cells": [
  {
   "cell_type": "code",
   "execution_count": 1,
   "id": "c1042c5a-5270-4bd1-8432-2d53e1293050",
   "metadata": {},
   "outputs": [
    {
     "name": "stdout",
     "output_type": "stream",
     "text": [
      "T-statistic: 2.8062430400804526, P-value: 0.020502476531930075\n"
     ]
    }
   ],
   "source": [
    "import numpy as np\n",
    "from scipy import stats\n",
    "\n",
    "sample = np.array([14, 15, 15, 16, 16, 16, 17, 18, 18, 19])\n",
    "t_stat, p_value = stats.ttest_1samp(sample, 15)\n",
    "print(f\"T-statistic: {t_stat}, P-value: {p_value}\")\n"
   ]
  },
  {
   "cell_type": "code",
   "execution_count": 2,
   "id": "7ad407cb-aa38-4b78-a8f6-b4bc499549c2",
   "metadata": {},
   "outputs": [
    {
     "name": "stdout",
     "output_type": "stream",
     "text": [
      "T-statistic: -1.417366773784602, P-value: 0.17345347438246728\n"
     ]
    }
   ],
   "source": [
    "sample1 = np.array([14, 15, 15, 16, 16, 16, 17, 18, 18, 19])\n",
    "sample2 = np.array([15, 16, 16, 17, 17, 17, 18, 19, 19, 20])\n",
    "t_stat, p_value = stats.ttest_ind(sample1, sample2)\n",
    "print(f\"T-statistic: {t_stat}, P-value: {p_value}\")\n"
   ]
  },
  {
   "cell_type": "code",
   "execution_count": 3,
   "id": "926b333a-d14e-4b12-bc23-e100d7f5c0de",
   "metadata": {},
   "outputs": [
    {
     "name": "stdout",
     "output_type": "stream",
     "text": [
      "F-statistic: 13.15530726256984\n",
      "p-value: 0.0009444365063458129\n"
     ]
    }
   ],
   "source": [
    "# Example data: Weight loss for three different diets\n",
    "diet_A = [4.1, 5.2, 6.3, 4.5, 5.0]\n",
    "diet_B = [3.5, 4.0, 3.8, 4.1, 3.9]\n",
    "diet_C = [5.0, 5.5, 5.8, 6.0, 5.7]\n",
    "\n",
    "# Perform ANOVA\n",
    "f_statistic, p_value = stats.f_oneway(diet_A, diet_B, diet_C)\n",
    "\n",
    "print(f\"F-statistic: {f_statistic}\")\n",
    "print(f\"p-value: {p_value}\")"
   ]
  },
  {
   "cell_type": "code",
   "execution_count": 5,
   "id": "969c925b-36ed-469a-9163-bd22562e9a81",
   "metadata": {},
   "outputs": [
    {
     "name": "stdout",
     "output_type": "stream",
     "text": [
      "                                 sum_sq   df             F    PR(>F)\n",
      "C(Fertilizer)              4.800000e+01  1.0  1.461929e+00  0.272102\n",
      "C(Watering)                1.800000e+01  2.0  2.741117e-01  0.769278\n",
      "C(Fertilizer):C(Watering)  1.893266e-29  2.0  2.883146e-31  1.000000\n",
      "Residual                   1.970000e+02  6.0           NaN       NaN\n"
     ]
    }
   ],
   "source": [
    "import pandas as pd\n",
    "import statsmodels.api as sm\n",
    "from statsmodels.formula.api import ols\n",
    "\n",
    "# Example data\n",
    "data = pd.DataFrame({\n",
    "    'Fertilizer': ['A', 'A', 'A', 'B', 'B', 'B']*2,\n",
    "    'Watering': ['Low', 'Medium', 'High']*4,\n",
    "    'PlantGrowth': [10, 12, 14, 15, 17, 19, 20, 21, 22, 23, 24, 25]\n",
    "})\n",
    "\n",
    "# Create the model\n",
    "model = ols('PlantGrowth ~ C(Fertilizer) * C(Watering)', data=data).fit()\n",
    "\n",
    "# Perform Two-Way ANOVA\n",
    "anova_table = sm.stats.anova_lm(model, typ=2)\n",
    "print(anova_table)\n"
   ]
  },
  {
   "cell_type": "code",
   "execution_count": 7,
   "id": "1460c08a-641b-4c1e-9f0d-06e1706b8915",
   "metadata": {},
   "outputs": [
    {
     "name": "stdout",
     "output_type": "stream",
     "text": [
      "Pearson correlation coefficient: 1.0\n",
      "P-value: 0.0\n"
     ]
    }
   ],
   "source": [
    "from scipy.stats import pearsonr\n",
    "\n",
    "\n",
    "data = {\n",
    "    'Variable1': [1, 2, 3, 4, 5],\n",
    "    'Variable2': [2, 4, 6, 8, 10]\n",
    "}\n",
    "df = pd.DataFrame(data)\n",
    "\n",
    "# Calculate Pearson correlation\n",
    "corr, p_value = pearsonr(df['Variable1'], df['Variable2'])\n",
    "print(f\"Pearson correlation coefficient: {corr}\")\n",
    "print(f\"P-value: {p_value}\")"
   ]
  },
  {
   "cell_type": "code",
   "execution_count": 8,
   "id": "0bc4034b-bb5a-40e8-9430-a603d66530e3",
   "metadata": {},
   "outputs": [
    {
     "data": {
      "image/png": "[encoded data removed]",
      "text/plain": [
       "<Figure size 640x480 with 1 Axes>"
      ]
     },
     "metadata": {},
     "output_type": "display_data"
    },
    {
     "name": "stdout",
     "output_type": "stream",
     "text": [
      "Coefficient: [2.]\n",
      "Intercept: -1.7763568394002505e-15\n",
      "R-squared: 1.0\n"
     ]
    }
   ],
   "source": [
    "import matplotlib.pyplot as plt\n",
    "from sklearn.linear_model import LinearRegression\n",
    "\n",
    "# Example data\n",
    "X = np.array([1, 2, 3, 4, 5]).reshape(-1, 1)\n",
    "y = np.array([2, 4, 6, 8, 10])\n",
    "\n",
    "# Create and fit the model\n",
    "model = LinearRegression().fit(X, y)\n",
    "\n",
    "# Predictions\n",
    "y_pred = model.predict(X)\n",
    "\n",
    "# Plotting\n",
    "plt.scatter(X, y, color='blue')\n",
    "plt.plot(X, y_pred, color='red')\n",
    "plt.xlabel('X')\n",
    "plt.ylabel('y')\n",
    "plt.title('Simple Linear Regression')\n",
    "plt.show()\n",
    "\n",
    "print(f\"Coefficient: {model.coef_}\")\n",
    "print(f\"Intercept: {model.intercept_}\")\n",
    "print(f\"R-squared: {model.score(X, y)}\")"
   ]
  },
  {
   "cell_type": "code",
   "execution_count": 9,
   "id": "649560ac-0a91-4d78-a101-872a3f7d8182",
   "metadata": {},
   "outputs": [
    {
     "name": "stdout",
     "output_type": "stream",
     "text": [
      "T-statistic: -0.0935219529582846\n",
      "P-value: 0.9275377865011267\n"
     ]
    }
   ],
   "source": [
    "import numpy as np\n",
    "from scipy import stats\n",
    "\n",
    "# Example data\n",
    "data = [2.3, 3.1, 2.8, 3.3, 2.9, 3.5, 3.1, 3.0, 2.7, 3.2]\n",
    "population_mean = 3.0\n",
    "\n",
    "# One-sample t-test\n",
    "t_stat, p_value = stats.ttest_1samp(data, population_mean)\n",
    "print(f\"T-statistic: {t_stat}\")\n",
    "print(f\"P-value: {p_value}\")\n"
   ]
  },
  {
   "cell_type": "code",
   "execution_count": 10,
   "id": "53242565-b923-4553-a69b-2505c066d89a",
   "metadata": {},
   "outputs": [
    {
     "name": "stdout",
     "output_type": "stream",
     "text": [
      "T-statistic: -5.208553758776474\n",
      "P-value: 0.0008138621117322077\n"
     ]
    }
   ],
   "source": [
    "# Example data\n",
    "group1 = [2.9, 3.0, 2.8, 3.2, 2.7]\n",
    "group2 = [3.5, 3.3, 3.4, 3.6, 3.7]\n",
    "\n",
    "# Two-sample t-test\n",
    "t_stat, p_value = stats.ttest_ind(group1, group2)\n",
    "print(f\"T-statistic: {t_stat}\")\n",
    "print(f\"P-value: {p_value}\")\n"
   ]
  },
  {
   "cell_type": "code",
   "execution_count": 11,
   "id": "67838213-0006-4124-86fa-cd5308a60a4d",
   "metadata": {},
   "outputs": [
    {
     "name": "stdout",
     "output_type": "stream",
     "text": [
      "                     sum_sq    df          F    PR(>F)\n",
      "C(Group1)             1.734   2.0  29.896552  0.000143\n",
      "C(Group2)               NaN   1.0        NaN       NaN\n",
      "C(Group1):C(Group2)   1.682   2.0  29.000000  0.000164\n",
      "Residual              0.348  12.0        NaN       NaN\n"
     ]
    },
    {
     "name": "stderr",
     "output_type": "stream",
     "text": [
      "C:\\Users\\TRUTH\\miniconda3\\envs\\pydata-book\\Lib\\site-packages\\statsmodels\\base\\model.py:1894: ValueWarning: covariance of constraints does not have full rank. The number of constraints is 2, but rank is 1\n",
      "  warnings.warn('covariance of constraints does not have full '\n",
      "C:\\Users\\TRUTH\\miniconda3\\envs\\pydata-book\\Lib\\site-packages\\statsmodels\\base\\model.py:1894: ValueWarning: covariance of constraints does not have full rank. The number of constraints is 1, but rank is 0\n",
      "  warnings.warn('covariance of constraints does not have full '\n",
      "C:\\Users\\TRUTH\\miniconda3\\envs\\pydata-book\\Lib\\site-packages\\statsmodels\\base\\model.py:1923: RuntimeWarning: invalid value encountered in divide\n",
      "  F /= J\n",
      "C:\\Users\\TRUTH\\miniconda3\\envs\\pydata-book\\Lib\\site-packages\\statsmodels\\base\\model.py:1894: ValueWarning: covariance of constraints does not have full rank. The number of constraints is 2, but rank is 1\n",
      "  warnings.warn('covariance of constraints does not have full '\n"
     ]
    }
   ],
   "source": [
    "import pandas as pd\n",
    "import statsmodels.api as sm\n",
    "from statsmodels.formula.api import ols\n",
    "\n",
    "# Example data\n",
    "data = pd.DataFrame({\n",
    "    'Value': [2.9, 3.0, 2.8, 3.2, 2.7, 3.5, 3.3, 3.4, 3.6, 3.7, 2.6, 2.8, 2.7, 2.5, 2.9],\n",
    "    'Group1': ['A', 'A', 'A', 'A', 'A', 'B', 'B', 'B', 'B', 'B', 'C', 'C', 'C', 'C', 'C'],\n",
    "    'Group2': ['X', 'X', 'X', 'X', 'X', 'Y', 'Y', 'Y', 'Y', 'Y', 'X', 'X', 'X', 'X', 'X']\n",
    "})\n",
    "\n",
    "# Two-Way ANOVA\n",
    "model = ols('Value ~ C(Group1) + C(Group2) + C(Group1):C(Group2)', data=data).fit()\n",
    "anova_table = sm.stats.anova_lm(model, typ=2)\n",
    "print(anova_table)\n"
   ]
  },
  {
   "cell_type": "code",
   "execution_count": null,
   "id": "dd8e6d81-ac42-4b80-9b79-5d91806a89c2",
   "metadata": {},
   "outputs": [],
   "source": []
  }
 ],
 "metadata": {
  "kernelspec": {
   "display_name": "Python 3 (ipykernel)",
   "language": "python",
   "name": "python3"
  },
  "language_info": {
   "codemirror_mode": {
    "name": "ipython",
    "version": 3
   },
   "file_extension": ".py",
   "mimetype": "text/x-python",
   "name": "python",
   "nbconvert_exporter": "python",
   "pygments_lexer": "ipython3",
   "version": "3.12.3"
  }
 },
 "nbformat": 4,
 "nbformat_minor": 5
}
