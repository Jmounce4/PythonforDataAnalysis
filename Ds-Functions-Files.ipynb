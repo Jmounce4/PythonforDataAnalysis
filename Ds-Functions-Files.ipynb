{
 "cells": [
  {
   "cell_type": "code",
   "execution_count": 1,
   "id": "bfb920b6-8c40-4df3-85ef-82ac500caa40",
   "metadata": {},
   "outputs": [],
   "source": [
    "tup = (4, 5, 6)"
   ]
  },
  {
   "cell_type": "code",
   "execution_count": 2,
   "id": "57bf818c-7ea0-40a4-8ae7-a7a2220a2fc7",
   "metadata": {},
   "outputs": [
    {
     "data": {
      "text/plain": [
       "(4, 5, 6)"
      ]
     },
     "execution_count": 2,
     "metadata": {},
     "output_type": "execute_result"
    }
   ],
   "source": [
    "tup"
   ]
  },
  {
   "cell_type": "code",
   "execution_count": 3,
   "id": "703acf5d-c94f-4001-910c-ad2972b1db93",
   "metadata": {},
   "outputs": [
    {
     "data": {
      "text/plain": [
       "4"
      ]
     },
     "execution_count": 3,
     "metadata": {},
     "output_type": "execute_result"
    }
   ],
   "source": [
    "tup[0]"
   ]
  },
  {
   "cell_type": "code",
   "execution_count": 4,
   "id": "a28737f8-7ef6-4894-88c0-de5ea338b824",
   "metadata": {},
   "outputs": [],
   "source": [
    "nested_tup = (4,5,6), (7,8)"
   ]
  },
  {
   "cell_type": "code",
   "execution_count": 5,
   "id": "18b4ceab-9b6a-4cd5-923f-10fa13fa9a2a",
   "metadata": {},
   "outputs": [
    {
     "data": {
      "text/plain": [
       "((4, 5, 6), (7, 8))"
      ]
     },
     "execution_count": 5,
     "metadata": {},
     "output_type": "execute_result"
    }
   ],
   "source": [
    "nested_tup"
   ]
  },
  {
   "cell_type": "code",
   "execution_count": 7,
   "id": "f59a99d9-1bfb-4545-8f5c-1aaee238eb14",
   "metadata": {},
   "outputs": [],
   "source": [
    "myTup = tuple([(4, 5), [1, 2, 3], \"poop\", True])"
   ]
  },
  {
   "cell_type": "code",
   "execution_count": 8,
   "id": "95aa5cca-cbd1-4769-a68c-53470b8ea928",
   "metadata": {},
   "outputs": [
    {
     "data": {
      "text/plain": [
       "((4, 5), [1, 2, 3], 'poop', True)"
      ]
     },
     "execution_count": 8,
     "metadata": {},
     "output_type": "execute_result"
    }
   ],
   "source": [
    "myTup"
   ]
  },
  {
   "cell_type": "code",
   "execution_count": 9,
   "id": "f21a0b55-50d2-4ca8-9b61-efb378074152",
   "metadata": {},
   "outputs": [],
   "source": [
    "myTup[1].append(4)"
   ]
  },
  {
   "cell_type": "code",
   "execution_count": 10,
   "id": "b496acc9-16b3-47ef-88e4-255c0d5e9bc0",
   "metadata": {},
   "outputs": [
    {
     "data": {
      "text/plain": [
       "((4, 5), [1, 2, 3, 4], 'poop', True)"
      ]
     },
     "execution_count": 10,
     "metadata": {},
     "output_type": "execute_result"
    }
   ],
   "source": [
    "myTup"
   ]
  },
  {
   "cell_type": "code",
   "execution_count": 14,
   "id": "6af0cc3b-3594-4f1e-b41d-42704dc202c8",
   "metadata": {},
   "outputs": [],
   "source": [
    "seq = [(1,2,3), (4,5,6), (7,8,9)]"
   ]
  },
  {
   "cell_type": "code",
   "execution_count": 16,
   "id": "d6bad918-9e56-4511-af49-ae3d4bd3d482",
   "metadata": {},
   "outputs": [
    {
     "name": "stdout",
     "output_type": "stream",
     "text": [
      "a=1, b=2, c=3\n",
      "a=4, b=5, c=6\n",
      "a=7, b=8, c=9\n"
     ]
    }
   ],
   "source": [
    "for a, b, c in seq:\n",
    "    print(f'a={a}, b={b}, c={c}')"
   ]
  },
  {
   "cell_type": "code",
   "execution_count": 17,
   "id": "af5494b1-ae41-46e4-a642-dd0c6987f46d",
   "metadata": {},
   "outputs": [],
   "source": [
    "valuesTest = 1,2,3,4,5"
   ]
  },
  {
   "cell_type": "code",
   "execution_count": 19,
   "id": "a77a0cd4-b9a0-4a65-8a6d-5e409e4c6249",
   "metadata": {},
   "outputs": [],
   "source": [
    "a, b, *rest = valuesTest"
   ]
  },
  {
   "cell_type": "code",
   "execution_count": 21,
   "id": "99a1fe8b-a2be-4755-b4e6-00dbcb41193a",
   "metadata": {},
   "outputs": [
    {
     "data": {
      "text/plain": [
       "[3, 4, 5]"
      ]
     },
     "execution_count": 21,
     "metadata": {},
     "output_type": "execute_result"
    }
   ],
   "source": [
    "rest"
   ]
  },
  {
   "cell_type": "code",
   "execution_count": 22,
   "id": "2dc76808-1fdd-4199-8331-5c92cf6d99d1",
   "metadata": {},
   "outputs": [],
   "source": [
    "myList = [1, 2, 3, \"hello\"]"
   ]
  },
  {
   "cell_type": "code",
   "execution_count": 23,
   "id": "6819f6e8-c7ba-4037-a06f-81b74d80a659",
   "metadata": {},
   "outputs": [],
   "source": [
    "myList.insert(0, 0)"
   ]
  },
  {
   "cell_type": "code",
   "execution_count": 24,
   "id": "f798530b-0dfc-4d79-8a26-a63172fe8358",
   "metadata": {},
   "outputs": [
    {
     "data": {
      "text/plain": [
       "[0, 1, 2, 3, 'hello']"
      ]
     },
     "execution_count": 24,
     "metadata": {},
     "output_type": "execute_result"
    }
   ],
   "source": [
    "myList"
   ]
  },
  {
   "cell_type": "code",
   "execution_count": 25,
   "id": "348a354a-f796-48be-9394-764c5f63f67a",
   "metadata": {},
   "outputs": [
    {
     "data": {
      "text/plain": [
       "0"
      ]
     },
     "execution_count": 25,
     "metadata": {},
     "output_type": "execute_result"
    }
   ],
   "source": [
    "myList.pop(0)"
   ]
  },
  {
   "cell_type": "code",
   "execution_count": 26,
   "id": "065a1985-e57a-4901-ad5e-4c834043d39f",
   "metadata": {},
   "outputs": [],
   "source": [
    "myList.append(\"hi\")"
   ]
  },
  {
   "cell_type": "code",
   "execution_count": 27,
   "id": "109f0399-76d1-4bd1-8c3c-7f513b414e26",
   "metadata": {},
   "outputs": [],
   "source": [
    "myList.remove(\"hi\")"
   ]
  },
  {
   "cell_type": "code",
   "execution_count": 28,
   "id": "0fd6124b-93c3-4b26-ae51-de98477271b5",
   "metadata": {},
   "outputs": [
    {
     "data": {
      "text/plain": [
       "[1, 2, 3, 'hello']"
      ]
     },
     "execution_count": 28,
     "metadata": {},
     "output_type": "execute_result"
    }
   ],
   "source": [
    "myList"
   ]
  },
  {
   "cell_type": "code",
   "execution_count": 29,
   "id": "493a820e-9d19-4b26-8fec-8b057e1a4c75",
   "metadata": {},
   "outputs": [
    {
     "data": {
      "text/plain": [
       "False"
      ]
     },
     "execution_count": 29,
     "metadata": {},
     "output_type": "execute_result"
    }
   ],
   "source": [
    "\"hi\" in myList"
   ]
  },
  {
   "cell_type": "code",
   "execution_count": 30,
   "id": "feda82a9-5667-4333-b84d-1659ce92bbae",
   "metadata": {},
   "outputs": [
    {
     "data": {
      "text/plain": [
       "True"
      ]
     },
     "execution_count": 30,
     "metadata": {},
     "output_type": "execute_result"
    }
   ],
   "source": [
    "\"hello\" in myList"
   ]
  },
  {
   "cell_type": "code",
   "execution_count": 32,
   "id": "c2f227a4-caa5-4ddb-8b57-d2368848b625",
   "metadata": {},
   "outputs": [],
   "source": [
    "myList.extend([\"hi\", \"hey\"]) #append multiple"
   ]
  },
  {
   "cell_type": "code",
   "execution_count": 33,
   "id": "eef917c9-be05-434a-961b-a390b041b27f",
   "metadata": {},
   "outputs": [
    {
     "data": {
      "text/plain": [
       "[1, 2, 3, 'hello', 'hi', 'hey']"
      ]
     },
     "execution_count": 33,
     "metadata": {},
     "output_type": "execute_result"
    }
   ],
   "source": [
    "myList"
   ]
  },
  {
   "cell_type": "code",
   "execution_count": 37,
   "id": "d1960c65-9ee8-4007-97a3-62158c2afb65",
   "metadata": {},
   "outputs": [
    {
     "data": {
      "text/plain": [
       "['hello', 'hi']"
      ]
     },
     "execution_count": 37,
     "metadata": {},
     "output_type": "execute_result"
    }
   ],
   "source": [
    "myList[3:5] #start included, stop not included"
   ]
  },
  {
   "cell_type": "code",
   "execution_count": 42,
   "id": "6e87eada-b35c-4289-9a35-a6b0834b1657",
   "metadata": {},
   "outputs": [
    {
     "data": {
      "text/plain": [
       "[1, 3, 'hi']"
      ]
     },
     "execution_count": 42,
     "metadata": {},
     "output_type": "execute_result"
    }
   ],
   "source": [
    "myList[::2] #every other element"
   ]
  },
  {
   "cell_type": "code",
   "execution_count": 43,
   "id": "ebe470dc-4742-448a-b4ae-7ec6f087a586",
   "metadata": {},
   "outputs": [
    {
     "data": {
      "text/plain": [
       "['hey', 'hi', 'hello', 3, 2, 1]"
      ]
     },
     "execution_count": 43,
     "metadata": {},
     "output_type": "execute_result"
    }
   ],
   "source": [
    "myList[::-1] #reverse"
   ]
  },
  {
   "cell_type": "code",
   "execution_count": 45,
   "id": "774a59d0-931a-4eeb-9e40-00c9827cd5bb",
   "metadata": {},
   "outputs": [],
   "source": [
    "myDict = {\"a\": \"value1\", \"b\": [1,2,3]}"
   ]
  },
  {
   "cell_type": "code",
   "execution_count": 46,
   "id": "d0a35cf1-82b7-4e61-92f2-cd42a0559a82",
   "metadata": {},
   "outputs": [
    {
     "data": {
      "text/plain": [
       "{'a': 'value1', 'b': [1, 2, 3]}"
      ]
     },
     "execution_count": 46,
     "metadata": {},
     "output_type": "execute_result"
    }
   ],
   "source": [
    "myDict"
   ]
  },
  {
   "cell_type": "code",
   "execution_count": 49,
   "id": "9c065093-020d-434f-b55b-2579407c62c4",
   "metadata": {},
   "outputs": [
    {
     "data": {
      "text/plain": [
       "'value1'"
      ]
     },
     "execution_count": 49,
     "metadata": {},
     "output_type": "execute_result"
    }
   ],
   "source": [
    "myDict['a']"
   ]
  },
  {
   "cell_type": "code",
   "execution_count": 50,
   "id": "ed4cf33c-142a-494e-94bc-f2a29c27743e",
   "metadata": {},
   "outputs": [
    {
     "data": {
      "text/plain": [
       "True"
      ]
     },
     "execution_count": 50,
     "metadata": {},
     "output_type": "execute_result"
    }
   ],
   "source": [
    "\"b\" in myDict"
   ]
  },
  {
   "cell_type": "code",
   "execution_count": 51,
   "id": "7c5659cb-4b23-4ffc-9f19-0016f62c7e32",
   "metadata": {},
   "outputs": [],
   "source": [
    "myDict['c']= 4"
   ]
  },
  {
   "cell_type": "code",
   "execution_count": 52,
   "id": "70515a24-bb10-4571-9001-54d6a514fa91",
   "metadata": {},
   "outputs": [
    {
     "data": {
      "text/plain": [
       "{'a': 'value1', 'b': [1, 2, 3], 'c': 4}"
      ]
     },
     "execution_count": 52,
     "metadata": {},
     "output_type": "execute_result"
    }
   ],
   "source": [
    "myDict"
   ]
  },
  {
   "cell_type": "code",
   "execution_count": 53,
   "id": "d565768e-e9d7-4c58-921f-d88a0d1191f9",
   "metadata": {},
   "outputs": [
    {
     "data": {
      "text/plain": [
       "4"
      ]
     },
     "execution_count": 53,
     "metadata": {},
     "output_type": "execute_result"
    }
   ],
   "source": [
    "myDict.pop('c')"
   ]
  },
  {
   "cell_type": "code",
   "execution_count": 54,
   "id": "a2245ef9-be2a-4afa-af57-7482fc327587",
   "metadata": {},
   "outputs": [
    {
     "data": {
      "text/plain": [
       "{'a': 'value1', 'b': [1, 2, 3]}"
      ]
     },
     "execution_count": 54,
     "metadata": {},
     "output_type": "execute_result"
    }
   ],
   "source": [
    "myDict"
   ]
  },
  {
   "cell_type": "code",
   "execution_count": 58,
   "id": "d28468ab-bea3-44d8-97f7-96038ef3da30",
   "metadata": {},
   "outputs": [
    {
     "data": {
      "text/plain": [
       "['a', 'b']"
      ]
     },
     "execution_count": 58,
     "metadata": {},
     "output_type": "execute_result"
    }
   ],
   "source": [
    "list(myDict.keys())"
   ]
  },
  {
   "cell_type": "code",
   "execution_count": 59,
   "id": "ca83e5d4-d15a-4b44-b318-070675f7cf2f",
   "metadata": {},
   "outputs": [
    {
     "data": {
      "text/plain": [
       "['value1', [1, 2, 3]]"
      ]
     },
     "execution_count": 59,
     "metadata": {},
     "output_type": "execute_result"
    }
   ],
   "source": [
    "list(myDict.values())"
   ]
  },
  {
   "cell_type": "code",
   "execution_count": 60,
   "id": "2c427431-ac03-42a4-94b8-091dab2ea56e",
   "metadata": {},
   "outputs": [
    {
     "data": {
      "text/plain": [
       "[('a', 'value1'), ('b', [1, 2, 3])]"
      ]
     },
     "execution_count": 60,
     "metadata": {},
     "output_type": "execute_result"
    }
   ],
   "source": [
    "list(myDict.items())"
   ]
  },
  {
   "cell_type": "code",
   "execution_count": 66,
   "id": "7e08412b-02ac-4329-9db5-68fe271d8795",
   "metadata": {},
   "outputs": [],
   "source": [
    "key_list = [0,1,2,3, 4, 5]"
   ]
  },
  {
   "cell_type": "code",
   "execution_count": 67,
   "id": "b23db6c2-cb9a-4560-9bb3-828d9b89e942",
   "metadata": {},
   "outputs": [],
   "source": [
    "value_list = [10,11,12,13,14]"
   ]
  },
  {
   "cell_type": "code",
   "execution_count": 68,
   "id": "ddacb180-143d-483d-a490-17b1f3808beb",
   "metadata": {},
   "outputs": [],
   "source": [
    "mapping = {}\n",
    "for key, value in zip(key_list, value_list):\n",
    "    mapping[key] = value"
   ]
  },
  {
   "cell_type": "code",
   "execution_count": 69,
   "id": "fe4acf2f-c4f2-41fa-821f-bcfa5a964a78",
   "metadata": {},
   "outputs": [
    {
     "data": {
      "text/plain": [
       "{0: 10, 1: 11, 2: 12, 3: 13, 4: 14}"
      ]
     },
     "execution_count": 69,
     "metadata": {},
     "output_type": "execute_result"
    }
   ],
   "source": [
    "mapping"
   ]
  },
  {
   "cell_type": "code",
   "execution_count": 70,
   "id": "74b44cbb-fe47-4c05-933e-f0cccf75aef7",
   "metadata": {},
   "outputs": [],
   "source": [
    "aSet = {1,2,3,4,5}"
   ]
  },
  {
   "cell_type": "code",
   "execution_count": 71,
   "id": "d0ffe9c4-f46c-4181-a516-7591025e15b6",
   "metadata": {},
   "outputs": [],
   "source": [
    "bSet = {3,4,5,6,7}"
   ]
  },
  {
   "cell_type": "code",
   "execution_count": 73,
   "id": "4c82b679-1220-482f-8d22-d19de83920d9",
   "metadata": {},
   "outputs": [
    {
     "data": {
      "text/plain": [
       "{1, 2, 3, 4, 5, 6, 7}"
      ]
     },
     "execution_count": 73,
     "metadata": {},
     "output_type": "execute_result"
    }
   ],
   "source": [
    "aSet.union(bSet)"
   ]
  },
  {
   "cell_type": "code",
   "execution_count": 74,
   "id": "bba91054-6b2e-4cdd-8453-eba18a181f0d",
   "metadata": {},
   "outputs": [
    {
     "data": {
      "text/plain": [
       "{1, 2, 3, 4, 5, 6, 7}"
      ]
     },
     "execution_count": 74,
     "metadata": {},
     "output_type": "execute_result"
    }
   ],
   "source": [
    "aSet | bSet"
   ]
  },
  {
   "cell_type": "code",
   "execution_count": 76,
   "id": "259b1c39-02d7-41af-a00e-e330e21a28f3",
   "metadata": {},
   "outputs": [
    {
     "data": {
      "text/plain": [
       "{3, 4, 5}"
      ]
     },
     "execution_count": 76,
     "metadata": {},
     "output_type": "execute_result"
    }
   ],
   "source": [
    "aSet.intersection(bSet) # or a & b"
   ]
  },
  {
   "cell_type": "code",
   "execution_count": 77,
   "id": "aa87510d-c285-4861-be48-0fa850a0b598",
   "metadata": {},
   "outputs": [],
   "source": [
    "def countdown(n):\n",
    "    while n > 0:\n",
    "        yield n\n",
    "        n -= 1"
   ]
  },
  {
   "cell_type": "code",
   "execution_count": 78,
   "id": "fef4326e-bae0-4f95-8d6c-cb62181c15b0",
   "metadata": {},
   "outputs": [
    {
     "name": "stdout",
     "output_type": "stream",
     "text": [
      "5\n",
      "4\n",
      "3\n",
      "2\n",
      "1\n"
     ]
    }
   ],
   "source": [
    "for i in countdown(5):\n",
    "    print(i)"
   ]
  },
  {
   "cell_type": "code",
   "execution_count": 79,
   "id": "e9b93a98-ad4f-4c69-8ed6-2fc04209a657",
   "metadata": {},
   "outputs": [],
   "source": [
    "def attempt_float(x):\n",
    "    try: \n",
    "        return float(x)\n",
    "    except:\n",
    "        return x\n",
    "    "
   ]
  },
  {
   "cell_type": "code",
   "execution_count": 80,
   "id": "2a1fe5d3-fa42-4fc6-a2b4-ed9060bbc7fc",
   "metadata": {},
   "outputs": [
    {
     "data": {
      "text/plain": [
       "1.2345"
      ]
     },
     "execution_count": 80,
     "metadata": {},
     "output_type": "execute_result"
    }
   ],
   "source": [
    "attempt_float(\"1.2345\")"
   ]
  },
  {
   "cell_type": "code",
   "execution_count": 81,
   "id": "00fe621e-d5c5-4ca8-aa5a-892af7751fdb",
   "metadata": {},
   "outputs": [
    {
     "data": {
      "text/plain": [
       "'hai I love my zoe'"
      ]
     },
     "execution_count": 81,
     "metadata": {},
     "output_type": "execute_result"
    }
   ],
   "source": [
    "attempt_float(\"hai I love my zoe\")"
   ]
  },
  {
   "cell_type": "code",
   "execution_count": null,
   "id": "51898266-7a53-4f26-a83a-6ac7e1f07e2c",
   "metadata": {},
   "outputs": [],
   "source": []
  }
 ],
 "metadata": {
  "kernelspec": {
   "display_name": "Python 3 (ipykernel)",
   "language": "python",
   "name": "python3"
  },
  "language_info": {
   "codemirror_mode": {
    "name": "ipython",
    "version": 3
   },
   "file_extension": ".py",
   "mimetype": "text/x-python",
   "name": "python",
   "nbconvert_exporter": "python",
   "pygments_lexer": "ipython3",
   "version": "3.12.3"
  }
 },
 "nbformat": 4,
 "nbformat_minor": 5
}
